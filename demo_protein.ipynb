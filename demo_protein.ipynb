{
 "cells": [
  {
   "cell_type": "code",
   "execution_count": 1,
   "metadata": {},
   "outputs": [
    {
     "name": "stdout",
     "output_type": "stream",
     "text": [
      "executing gpml startup script...\r\n"
     ]
    }
   ],
   "source": [
    "disp ('executing gpml startup script...')\n",
    "mydir = fileparts (mfilename ('fullpath'));                 % where am I located\n",
    "addpath (mydir)\n",
    "dirs = {'cov','doc','inf','lik','mean','prior','util'};           % core folders\n",
    "for d = dirs, addpath (fullfile (mydir, d{1})), end\n",
    "dirs = {{'util','minfunc'},{'util','minfunc','compiled'}};     % minfunc folders\n",
    "for d = dirs, addpath (fullfile (mydir, d{1}{:})), end\n",
    "% addpath([mydir,'/util/sparseinv'])\n",
    "pkg load statistics\n",
    "% graphics_toolkit ('qt')\n",
    "warning('off','all');\n",
    "\n",
    "rand('state',123456)"
   ]
  },
  {
   "cell_type": "code",
   "execution_count": 2,
   "metadata": {},
   "outputs": [],
   "source": [
    "ttcs = 400;\n",
    "knc = 20; % for each data point consider its k nearest clusters\n",
    "gamma = 0.1;\n",
    "sig_temp = 0.5;\n",
    "sig_max = 0.6; sig_min = 0.2;"
   ]
  },
  {
   "cell_type": "code",
   "execution_count": 3,
   "metadata": {},
   "outputs": [],
   "source": [
    "nn = 40000; \n",
    "nv = 0;\n",
    "n = nn-nv;\n",
    "nt = 5730;\n",
    "load ('./data/protein.mat');\n",
    "[ndata, ~] = size(M);\n",
    "X = M(:,2:9);\n",
    "Y = M(:,1);\n",
    "R = randperm(ndata);        \n",
    "ori_xvec_test = X(R(1:nt),:);\n",
    "ori_yvec_test = Y(R(1:nt));\n",
    "R(1:nt) = [];\n",
    "ori_xvec_val = X(R(1:nv),:);          \n",
    "ori_yvec_val = Y(R(1:nv));\n",
    "R(1:nv) = [];\n",
    "ori_xvec = X(R,:);\n",
    "ori_yvec = Y(R);"
   ]
  },
  {
   "cell_type": "code",
   "execution_count": 4,
   "metadata": {},
   "outputs": [],
   "source": [
    "ttm = round(n / (ttcs/2));\n",
    "% fast_induce_step = 50;\n",
    "induce_step = 100;\n",
    "\n",
    "xnorm = 1; ynorm = 1;"
   ]
  },
  {
   "cell_type": "code",
   "execution_count": 5,
   "metadata": {},
   "outputs": [],
   "source": [
    "% input normalization\n",
    "if xnorm == 1\n",
    "    norm_xmean = mean(ori_xvec);\n",
    "    norm_xstd = std(ori_xvec);\n",
    "    xvec = (ori_xvec - repmat(norm_xmean,n,1)) ./ repmat(norm_xstd,n,1);    \n",
    "    xvec_test = (ori_xvec_test - repmat(norm_xmean,nt,1)) ./ repmat(norm_xstd,nt,1);\n",
    "    xvec_val = (ori_xvec_val - repmat(norm_xmean,nv,1)) ./ repmat(norm_xstd,nv,1);\n",
    "else\n",
    "    xvec = ori_xvec;\n",
    "    xvec_test = ori_xvec_test;\n",
    "    xvec_val = ori_xvec_val;\n",
    "end\n",
    "\n",
    "% output normalization\n",
    "if ynorm == 1\n",
    "    norm_fmean = mean(ori_yvec);\n",
    "    norm_fstd = std(ori_yvec);\n",
    "    yvec = (ori_yvec - norm_fmean) / norm_fstd;\n",
    "    yvec_test = (ori_yvec_test - norm_fmean) / norm_fstd;\n",
    "    yvec_val = (ori_yvec_val - norm_fmean) / norm_fstd;\n",
    "else\n",
    "    yvec = ori_yvec;\n",
    "    yvec_test = ori_yvec_test;\n",
    "    yvec_test_val = ori_yvec_val;\n",
    "end"
   ]
  },
  {
   "cell_type": "code",
   "execution_count": 6,
   "metadata": {},
   "outputs": [],
   "source": [
    "testsize = nt; % size of test data\n",
    "valsize = nv;\n",
    "induce_step = 100;"
   ]
  },
  {
   "cell_type": "code",
   "execution_count": 7,
   "metadata": {},
   "outputs": [],
   "source": [
    "sf2 = 1 ; ell = 1 ; sn2 = 0.1 ; \n",
    "d = size(xvec,2);\n",
    "opts.Xnorm = 'N' ; opts.Ynorm = 'N' ;\n",
    "opts.Ms = ttm+1;\n",
    "opts.ell = ell ; opts.sf2 = sf2 ; opts.sn2 = sn2 ;\n",
    "opts.meanfunc = []; opts.covfunc = @covSEard; opts.likfunc = @likGauss; opts.inffunc = @infGaussLik ;\n",
    "\n",
    "meanfunc = [];                    % empty: don't use a mean function\n",
    "covfunc = opts.covfunc;              % Squared Exponental covariance function\n",
    "likfunc = opts.likfunc;              % Gaussian likelihood\n",
    "inffunc = opts.inffunc;\n",
    "km_iters = 1e4;\n",
    "opts.induce_step = induce_step ;"
   ]
  },
  {
   "cell_type": "code",
   "execution_count": 8,
   "metadata": {},
   "outputs": [],
   "source": [
    "% hyp.cov = log([ones(d,1)*ell;sf2]); hyp.lik = log(sn2); hyp.mean = [];    \n",
    "opts.numOptFC = 50 ;\n",
    "opts.Ms = ttm+1;\n",
    "opts.xvec = xvec;\n",
    "opts.yvec = yvec;\n",
    "opts.grbcm_baseline = 0;\n",
    "opts.global_index = ones(n,1);\n",
    "% opts.inffunc = @infGaussLik; opts.meanfunc = meanfunc; opts.likfunc = likfunc;\n",
    "opts.covfunc = covfunc;\n",
    "covfuncF = {@apxSparse, {opts.covfunc}, []};\n",
    "opts.covfuncF = covfuncF;\n",
    "opts.compute_hyp = 0;"
   ]
  },
  {
   "cell_type": "code",
   "execution_count": 9,
   "metadata": {},
   "outputs": [
    {
     "name": "stdout",
     "output_type": "stream",
     "text": [
      "dcs =  200\n",
      "ecs =  200\n"
     ]
    }
   ],
   "source": [
    "% default partition\n",
    "dcs_ecs_r = 0.5;\n",
    "dcs = round(ttcs*dcs_ecs_r) % size of the communication set\n",
    "ecs = ttcs - dcs % size of other experts"
   ]
  },
  {
   "cell_type": "markdown",
   "metadata": {},
   "source": [
    "Baselines."
   ]
  },
  {
   "cell_type": "code",
   "execution_count": 10,
   "metadata": {},
   "outputs": [
    {
     "name": "stdout",
     "output_type": "stream",
     "text": [
      "Optimizing hyps in training...\n",
      "Linesearch     30;  Value 3.747914e+04\n",
      "GRBCM (Dc size 200): MSE 15.41330157, SMSE 0.41084936, MSLL -0.60348683\n",
      "grbcm_llh =    3.7479e+04\n",
      "time_grbcm_opt =  378.31\n"
     ]
    }
   ],
   "source": [
    "tic();\n",
    "\n",
    "n_per = dcs ; % size of Dc\n",
    "m = mn = round(n / ecs); % mn is the number of experts (normal)\n",
    "Indics = randperm(n) ;\n",
    "I_com = Indics(1:n_per) ; % randomly select communication set\n",
    "[idx, C] = kmeans(xvec, mn,'MaxIter',km_iters);    \n",
    "\n",
    "% hyp.cov = log([ones(d,1)*ell;sf2]); hyp.lik = log(sn2); hyp.mean = [];    \n",
    "opts.numOptFC = 30 ;\n",
    "opts.Ms = mn+1;\n",
    "opts.xvec = xvec;\n",
    "opts.yvec = yvec;\n",
    "opts.induce_size = dcs;\n",
    "opts.grbcm_baseline = 0;\n",
    "opts.global_index = ones(n,1);\n",
    "opts.I_com = I_com;\n",
    "% opts.inffunc = @infGaussLik; opts.meanfunc = meanfunc; opts.likfunc = likfunc;\n",
    "opts.covfunc = covfunc;\n",
    "covfuncF = {@apxSparse, {opts.covfunc}, xvec(I_com,:)};\n",
    "opts.covfuncF = covfuncF;\n",
    "opts.compute_hyp = 0;\n",
    "\n",
    "g_opts = opts;\n",
    "g_opts.compute_hyp = 1;\n",
    "g_opts.grbcm_baseline = 1;\n",
    "g_opts.global_index = ones(n,1);\n",
    "[g_models, grbcm_llhs] = GRBCM_train(xvec,yvec,idx,g_opts); \n",
    "opts.hyp = g_models{1}.hyp;\n",
    "g_opts.hyp = g_models{1}.hyp;\n",
    "[tmu,ts2] = GRBCM_predict(xvec_test,g_models, g_opts);\n",
    "if ynorm==1\n",
    "    tmu = tmu * norm_fstd + norm_fmean;\n",
    "    ts2 = ts2 * norm_fstd^2;\n",
    "end\n",
    "[grbcmMSE,grbcmSMSE,grbcmMSLL] = evaluate(ori_xvec, ori_yvec, ori_xvec_test, ori_yvec_test, tmu, ts2);\n",
    "fprintf('%s (Dc size %d): MSE %6.8f, SMSE %6.8f, MSLL %6.8f\\r\\n', 'GRBCM', n_per, grbcmMSE,grbcmSMSE,grbcmMSLL);\n",
    "grbcm_llh = grbcm_llhs(end)\n",
    "g_opts.compute_hyp = 0;\n",
    "\n",
    "time_grbcm_opt = toc()"
   ]
  },
  {
   "cell_type": "markdown",
   "metadata": {},
   "source": [
    "other baselines"
   ]
  },
  {
   "cell_type": "code",
   "execution_count": 11,
   "metadata": {},
   "outputs": [
    {
     "name": "stdout",
     "output_type": "stream",
     "text": [
      "RBCM (Dc size 200): MSE 15.52633732, SMSE 0.4139, MSLL -0.5718\n",
      "BCM (Dc size 200): MSE 14.55576626, SMSE 0.3880, MSLL -0.1951\n",
      "PoE (Dc size 200): MSE 35.39057036, SMSE 0.9434, MSLL 85.3095\n",
      "GPoE (Dc size 200): MSE    NaN, SMSE    NaN, MSLL    NaN\n"
     ]
    }
   ],
   "source": [
    "criterion = 'RBCM';\n",
    "[tmu,ts2,t_dGP_predict] = aggregation_predict(xvec_test,g_models,criterion, 1, g_opts);\n",
    "if ynorm==1\n",
    "    tmu = tmu * norm_fstd + norm_fmean;\n",
    "    ts2 = ts2 * norm_fstd^2;\n",
    "end\n",
    "[rbcmMSE,rbcmSMSE,rbcmMSLL] = evaluate(ori_xvec, ori_yvec, ori_xvec_test, ori_yvec_test, tmu, ts2);\n",
    "fprintf('%s (Dc size %d): MSE %6.8f, SMSE %6.4f, MSLL %6.4f\\r\\n', criterion, n_per, rbcmMSE,rbcmSMSE,rbcmMSLL);\n",
    "\n",
    "criterion = 'BCM';\n",
    "[tmu,ts2,t_dGP_predict] = aggregation_predict(xvec_test,g_models,criterion, 1, g_opts);\n",
    "if ynorm==1\n",
    "    tmu = tmu * norm_fstd + norm_fmean;\n",
    "    ts2 = ts2 * norm_fstd^2;\n",
    "end\n",
    "[bcmMSE,bcmSMSE,bcmMSLL] = evaluate(ori_xvec, ori_yvec, ori_xvec_test, ori_yvec_test, tmu, ts2);\n",
    "fprintf('%s (Dc size %d): MSE %6.8f, SMSE %6.4f, MSLL %6.4f\\r\\n', criterion, n_per, bcmMSE,bcmSMSE,bcmMSLL);\n",
    "\n",
    "criterion = 'PoE';\n",
    "[tmu,ts2,t_dGP_predict] = aggregation_predict(xvec_test,g_models,criterion, 1, g_opts);\n",
    "if ynorm==1\n",
    "    tmu = tmu * norm_fstd + norm_fmean;\n",
    "    ts2 = ts2 * norm_fstd^2;\n",
    "end\n",
    "[poeMSE,poeSMSE,poeMSLL] = evaluate(ori_xvec, ori_yvec, ori_xvec_test, ori_yvec_test, tmu, ts2);\n",
    "fprintf('%s (Dc size %d): MSE %6.8f, SMSE %6.4f, MSLL %6.4f\\r\\n', criterion, n_per, poeMSE,poeSMSE,poeMSLL);\n",
    "\n",
    "criterion = 'GPoE';\n",
    "[tmu,ts2,t_dGP_predict] = aggregation_predict(xvec_test,g_models,criterion, 1, g_opts);\n",
    "if ynorm==1\n",
    "    tmu = tmu * norm_fstd + norm_fmean;\n",
    "    ts2 = ts2 * norm_fstd^2;\n",
    "end\n",
    "[gpoeMSE,gpoeSMSE,gpoeMSLL] = evaluate(ori_xvec, ori_yvec, ori_xvec_test, ori_yvec_test, tmu, ts2);\n",
    "fprintf('%s (Dc size %d): MSE %6.8f, SMSE %6.4f, MSLL %6.4f\\r\\n', criterion, n_per, gpoeMSE,gpoeSMSE,gpoeMSLL);"
   ]
  },
  {
   "cell_type": "code",
   "execution_count": 12,
   "metadata": {},
   "outputs": [
    {
     "name": "stdout",
     "output_type": "stream",
     "text": [
      "processing distance: 10/200\n",
      "processing distance: 20/200\n",
      "processing distance: 30/200\n",
      "processing distance: 40/200\n",
      "processing distance: 50/200\n",
      "processing distance: 60/200\n",
      "processing distance: 70/200\n",
      "processing distance: 80/200\n",
      "processing distance: 90/200\n",
      "processing distance: 100/200\n",
      "processing distance: 110/200\n",
      "processing distance: 120/200\n",
      "processing distance: 130/200\n",
      "processing distance: 140/200\n",
      "processing distance: 150/200\n",
      "processing distance: 160/200\n",
      "processing distance: 170/200\n",
      "processing distance: 180/200\n",
      "processing distance: 190/200\n",
      "processing distance: 200/200\n",
      "time_cid =  176.78\n"
     ]
    }
   ],
   "source": [
    "tic();\n",
    "% compute distance matrix\n",
    "ds = zeros(n, m);\n",
    "for i=1:n\n",
    "    for j=1:m\n",
    "        ds(i,j) = norm(xvec(i, :) - C(j,:));\n",
    "    end\n",
    "end\n",
    "\n",
    "% 1st closest cluster centers\n",
    "[~, fcc] = min(ds, [], 2);\n",
    "% % set to inf\n",
    "% for i=1:n\n",
    "%     ds(i, fcc(i)) = 1e10;\n",
    "% end\n",
    "\n",
    "% consider knc closest cluster centers\n",
    "[~, ranks] = sort(ds, 2);\n",
    "mask = zeros(n,m); rk_mat = zeros(n,m); \n",
    "rk = zeros(n, 1);\n",
    "\n",
    "for iik=1:n\n",
    "    mask(iik, ranks(iik, 1:knc+1)) = 1;\n",
    "end\n",
    "\n",
    "for iim=1:m\n",
    "    if mod(iim, 10)==0\n",
    "        fprintf('processing distance: %d/%d\\n', iim, m);\n",
    "    end\n",
    "    xidx = logical(mask(:, iim));\n",
    "    evalxvec = xvec(xidx, :);\n",
    "%     size(evalxvec)\n",
    "    [tmp_mu, tmp_sig2] = gp(g_opts.hyp,inffunc,meanfunc, ...\n",
    "        covfunc,likfunc,g_models{iim+1}.X,g_models{iim+1}.Y,evalxvec);\n",
    "    rk_mat(xidx, iim) = log(tmp_sig2);\n",
    "end\n",
    "\n",
    "for i=1:n\n",
    "    rk(i) = sum(rk_mat(i, :)) - 2*rk_mat(i, fcc(i));\n",
    "end\n",
    "\n",
    "time_cid = toc()"
   ]
  },
  {
   "cell_type": "code",
   "execution_count": 13,
   "metadata": {},
   "outputs": [
    {
     "name": "stdout",
     "output_type": "stream",
     "text": [
      "ans =  1.3771\r\n"
     ]
    }
   ],
   "source": [
    "mean(rk)"
   ]
  },
  {
   "cell_type": "code",
   "execution_count": 14,
   "metadata": {},
   "outputs": [
    {
     "name": "stdout",
     "output_type": "stream",
     "text": [
      "mrk =  1.3794\n",
      "rr =  31.379\n",
      "dcs_ecs_r =  0.60000\n",
      "dcs =  240\n",
      "ecs =  160\n",
      "m =  250\n"
     ]
    }
   ],
   "source": [
    "trk = -30;\n",
    "sig_temp = 0.1;\n",
    "\n",
    "th = min(rk)+(max(rk)-min(rk))*gamma;\n",
    "gi = rk > th;\n",
    "\n",
    "mrk = mean(rk(gi))\n",
    "\n",
    "rr=mrk-trk\n",
    "dcs_ecs_r = sigmoid(rr, sig_temp);\n",
    "dcs_ecs_r = min(dcs_ecs_r, sig_max);\n",
    "dcs_ecs_r = max(dcs_ecs_r, sig_min);\n",
    "dcs_ecs_r\n",
    "dcs = round(ttcs*dcs_ecs_r)\n",
    "ecs = ttcs - dcs\n",
    "m = round(n / ecs)"
   ]
  },
  {
   "cell_type": "code",
   "execution_count": 15,
   "metadata": {},
   "outputs": [
    {
     "name": "stdout",
     "output_type": "stream",
     "text": [
      "time_overhead =  29.780\r\n"
     ]
    }
   ],
   "source": [
    "tic();\n",
    "n_per = dcs ; % size of Dc\n",
    "Indics = randperm(n) ;\n",
    "I_com = Indics(1:n_per) ; % randomly select communication set\n",
    "[idx, C] = kmeans(xvec, m,'MaxIter',km_iters);    \n",
    "\n",
    "opts.compute_hyp = 0;\n",
    "% hyp.cov = log([ones(d,1)*ell;sf2]); hyp.lik = log(sn2); hyp.mean = [];    \n",
    "opts.numOptFC = 30 ;\n",
    "opts.Ms = m+1;\n",
    "opts.xvec = xvec;\n",
    "opts.yvec = yvec;\n",
    "opts.induce_size = dcs;\n",
    "opts.grbcm_baseline = 0;\n",
    "opts.global_index = ones(n,1);\n",
    "opts.I_com = I_com;\n",
    "% opts.inffunc = @infGaussLik; opts.meanfunc = meanfunc; opts.likfunc = likfunc;\n",
    "opts.covfunc = covfunc;\n",
    "covfuncF = {@apxSparse, {opts.covfunc}, xvec(I_com,:)};\n",
    "opts.covfuncF = covfuncF;\n",
    "\n",
    "g_opts = opts;\n",
    "% g_opts.compute_hyp = 1;\n",
    "g_opts.grbcm_baseline = 1;\n",
    "g_opts.global_index = ones(n,1);\n",
    "g_models = GRBCM_train(xvec,yvec,idx,g_opts); \n",
    "time_overhead = toc()"
   ]
  },
  {
   "cell_type": "markdown",
   "metadata": {},
   "source": [
    "Optimize VFE and SPGP."
   ]
  },
  {
   "cell_type": "code",
   "execution_count": 16,
   "metadata": {},
   "outputs": [],
   "source": [
    "I_com2 = Indics(1:dcs) ; % randomly select communication set"
   ]
  },
  {
   "cell_type": "code",
   "execution_count": 17,
   "metadata": {},
   "outputs": [
    {
     "name": "stdout",
     "output_type": "stream",
     "text": [
      "Function evaluation    100;  Value 2.374899e+05\n",
      "VFE baseline (Dc size 240): MSE 23.77338839, SMSE 0.63369171, MSLL -0.27109517\n",
      "vfe_llh =    2.3749e+05\n",
      "time_vfe_opt =  620.10\n"
     ]
    }
   ],
   "source": [
    "tic();\n",
    "% % VFE Baseline\n",
    "vfe_opts = opts;\n",
    "vfe_opts.induce_type = 'VFE_opt';\n",
    "xu = xvec(I_com2, :);\n",
    "inffunc = @(varargin) infGaussLik(varargin{:}, struct('s', 0.0));\n",
    "vfe_hyp = opts.hyp;\n",
    "vfe_hyp.xu = xu;\n",
    "[vfe_hyp, vfe_llhs] = minimize(vfe_hyp,@sp_gp,-vfe_opts.induce_step,inffunc,meanfunc,covfuncF,likfunc,xvec,yvec);\n",
    "vfe_opts.hyp = opts.hyp;\n",
    "vfe_opts.xu = vfe_hyp.xu;\n",
    "vfe_opts.inffunc = @infGaussLik; vfe_opts.meanfunc = meanfunc; vfe_opts.covfuncF = covfuncF; vfe_opts.likfunc = likfunc;\n",
    "vfe_opts.covfunc = covfunc;\n",
    "[tmu, ts2] = gp(vfe_hyp, @infGaussLik, meanfunc, covfuncF, likfunc, xvec, yvec, xvec_test);\n",
    "if ynorm==1\n",
    "    tmu = tmu * norm_fstd + norm_fmean;\n",
    "    ts2 = ts2 * norm_fstd^2;\n",
    "end\n",
    "[vfeMSE,vfeSMSE,vfeMSLL] = evaluate(ori_xvec, ori_yvec, ori_xvec_test, ori_yvec_test, tmu, ts2);\n",
    "fprintf('%s (Dc size %d): MSE %6.8f, SMSE %6.8f, MSLL %6.8f\\r\\n', 'VFE baseline', n_per, vfeMSE,vfeSMSE,vfeMSLL);\n",
    "vfe_llh = vfe_llhs(end)\n",
    "% vfe0_smse_rec(ki) = vfeSMSE; vfe0_msll_rec(ki) = vfeMSLL;\n",
    "[yu, su] = gp(vfe_hyp, @infGaussLik, meanfunc, covfuncF, likfunc, xvec, yvec, vfe_opts.xu);\n",
    "vfe_opts.yu = yu; vfe_opts.su = su; \n",
    "time_vfe_opt = toc()"
   ]
  },
  {
   "cell_type": "code",
   "execution_count": 18,
   "metadata": {},
   "outputs": [
    {
     "name": "stdout",
     "output_type": "stream",
     "text": [
      "GRBCM++ (VFE) (Dc size 240): \n",
      "MSE 15.13088155, SMSE 0.4033, MSLL -0.6172\n",
      "time_eval_grbcm_vfe =  54.738\n"
     ]
    }
   ],
   "source": [
    "tic();\n",
    "xu_idx = randperm(size(vfe_opts.xu, 1))(1:dcs);\n",
    "grbcm_vfe_opts = vfe_opts;\n",
    "grbcm_vfe_opts.xu = vfe_opts.xu(xu_idx,:);\n",
    "grbcm_vfe_opts.yu = vfe_opts.yu(xu_idx,:);\n",
    "\n",
    "grbcm_vfe_opts.global_index = gi;\n",
    "models = GRBCM_train(xvec,yvec,idx,grbcm_vfe_opts); % use hyp of vfe\n",
    "[tmu,ts2] = GRBCM_predict(xvec_test,models,grbcm_vfe_opts);\n",
    "if ynorm==1\n",
    "    tmu = tmu * norm_fstd + norm_fmean;\n",
    "    ts2 = ts2 * norm_fstd^2;\n",
    "end\n",
    "[MSE,SMSE,MSLL] = evaluate(ori_xvec, ori_yvec, ori_xvec_test, ori_yvec_test, tmu, ts2);\n",
    "fprintf('%s (Dc size %d): \\r\\nMSE %6.8f, SMSE %6.4f, MSLL %6.4f\\r\\n', 'GRBCM++ (VFE)', n_per, MSE,SMSE,MSLL);\n",
    "time_eval_grbcm_vfe = toc()"
   ]
  },
  {
   "cell_type": "code",
   "execution_count": 19,
   "metadata": {},
   "outputs": [
    {
     "name": "stdout",
     "output_type": "stream",
     "text": [
      "Function evaluation     99;  Value 4.607358e+04\n",
      "SPSG baseline (Dc size 240): MSE 24.50670296, SMSE 0.65323858, MSLL -0.26105720\n",
      "spgp_llh =    4.6074e+04\n",
      "time_spgp_opt =  0.028879\n"
     ]
    }
   ],
   "source": [
    "tic();\n",
    "sp_opts = opts;\n",
    "sp_opts.induce_size = dcs;\n",
    "sp_opts.induce_type = 'SPGP_opt';\n",
    "hyp_init(1:d,1) = -2*opts.hyp.cov(1:d);\n",
    "hyp_init(d+1,1) = 2*opts.hyp.cov(d+1);\n",
    "hyp_init(d+2,1) = 2*opts.hyp.lik;\n",
    "\n",
    "xu = xvec(I_com2, :);\n",
    "w_init = [reshape(xu,sp_opts.induce_size*d,1);hyp_init];\n",
    "[w,spgp_llhs] = minimize(w_init,'spgp_lik_nohyp',-sp_opts.induce_step,yvec,xvec,sp_opts.induce_size);\n",
    "xb = reshape(w(1:sp_opts.induce_size*d,1),sp_opts.induce_size,d);\n",
    "sp_opts.xu = xb;\n",
    "sp_opts.sp_hyp = w(sp_opts.induce_size*d+1:end,1);\n",
    "sp_opts.hyp = opts.hyp;\n",
    "[tmu,ts2] = spgp_pred(sp_opts.yvec,sp_opts.xvec,sp_opts.xu,xvec_test,sp_opts.sp_hyp);\n",
    "if ynorm==1\n",
    "    tmu = tmu * norm_fstd + norm_fmean;\n",
    "    ts2 = ts2 * norm_fstd^2;\n",
    "end\n",
    "[spgpMSE,spgpSMSE,spgpMSLL] = evaluate(ori_xvec, ori_yvec, ori_xvec_test, ori_yvec_test, tmu, ts2);\n",
    "fprintf('%s (Dc size %d): MSE %6.8f, SMSE %6.8f, MSLL %6.8f\\r\\n', 'SPSG baseline', n_per, spgpMSE,spgpSMSE,spgpMSLL);\n",
    "spgp_llh = spgp_llhs(end)\n",
    "% spgp0_smse_rec(ki) = spgpSMSE; spgp0_msll_rec(ki) = spgpMSLL;\n",
    "[yu,su] = spgp_pred(sp_opts.yvec,sp_opts.xvec,sp_opts.xu,sp_opts.xu,sp_opts.sp_hyp);\n",
    "sp_opts.yu = yu; sp_opts.su = su;\n",
    "time_spgp_opt = toc"
   ]
  },
  {
   "cell_type": "code",
   "execution_count": 20,
   "metadata": {},
   "outputs": [
    {
     "name": "stdout",
     "output_type": "stream",
     "text": [
      "GRBCM++ (VFE) (Dc size 240): \n",
      "MSE 15.16723977, SMSE 0.4043, MSLL -0.6043\n",
      "time_eval_grbcm_spgp =  53.989\n"
     ]
    }
   ],
   "source": [
    "tic();\n",
    "xu_idx = randperm(size(sp_opts.xu, 1))(1:dcs);\n",
    "grbcm_spgp_opts = sp_opts;\n",
    "grbcm_spgp_opts.xu = sp_opts.xu(xu_idx,:);\n",
    "grbcm_spgp_opts.yu = sp_opts.yu(xu_idx,:);\n",
    "\n",
    "grbcm_spgp_opts.global_index = gi;\n",
    "models = GRBCM_train(xvec,yvec,idx,grbcm_spgp_opts); % use hyp of vfe\n",
    "[tmu,ts2] = GRBCM_predict(xvec_test,models,grbcm_spgp_opts);\n",
    "if ynorm==1\n",
    "    tmu = tmu * norm_fstd + norm_fmean;\n",
    "    ts2 = ts2 * norm_fstd^2;\n",
    "end\n",
    "[MSE,SMSE,MSLL] = evaluate(ori_xvec, ori_yvec, ori_xvec_test, ori_yvec_test, tmu, ts2);\n",
    "fprintf('%s (Dc size %d): \\r\\nMSE %6.8f, SMSE %6.4f, MSLL %6.4f\\r\\n', 'GRBCM++ (VFE)', n_per, MSE,SMSE,MSLL);\n",
    "time_eval_grbcm_spgp = toc()"
   ]
  },
  {
   "cell_type": "code",
   "execution_count": null,
   "metadata": {},
   "outputs": [],
   "source": []
  },
  {
   "cell_type": "code",
   "execution_count": 21,
   "metadata": {},
   "outputs": [
    {
     "name": "stdout",
     "output_type": "stream",
     "text": [
      "time_all_grbcm_vfe =  20.995\n",
      "time_all_grbcm_spgp =  10.648\n",
      "time_all =  21.895\n"
     ]
    }
   ],
   "source": [
    "time_all_grbcm_vfe = (time_grbcm_opt + time_cid + time_vfe_opt + time_overhead + time_eval_grbcm_vfe)/60\n",
    "time_all_grbcm_spgp = (time_grbcm_opt + time_cid + time_spgp_opt + time_overhead + time_eval_grbcm_spgp)/60\n",
    "time_all = (time_grbcm_opt + time_cid + time_vfe_opt + time_spgp_opt + time_overhead + time_eval_grbcm_vfe + time_eval_grbcm_spgp)/60"
   ]
  },
  {
   "cell_type": "code",
   "execution_count": null,
   "metadata": {},
   "outputs": [],
   "source": []
  }
 ],
 "metadata": {
  "kernelspec": {
   "display_name": "Octave",
   "language": "octave",
   "name": "octave"
  },
  "language_info": {
   "file_extension": ".m",
   "help_links": [
    {
     "text": "GNU Octave",
     "url": "https://www.gnu.org/software/octave/support.html"
    },
    {
     "text": "Octave Kernel",
     "url": "https://github.com/Calysto/octave_kernel"
    },
    {
     "text": "MetaKernel Magics",
     "url": "https://metakernel.readthedocs.io/en/latest/source/README.html"
    }
   ],
   "mimetype": "text/x-octave",
   "name": "octave",
   "version": "4.2.2"
  }
 },
 "nbformat": 4,
 "nbformat_minor": 2
}
