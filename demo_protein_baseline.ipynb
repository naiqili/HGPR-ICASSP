{
 "cells": [
  {
   "cell_type": "code",
   "execution_count": 1,
   "metadata": {},
   "outputs": [
    {
     "name": "stdout",
     "output_type": "stream",
     "text": [
      "executing gpml startup script...\r\n"
     ]
    }
   ],
   "source": [
    "disp ('executing gpml startup script...')\n",
    "mydir = fileparts (mfilename ('fullpath'));                 % where am I located\n",
    "addpath (mydir)\n",
    "dirs = {'cov','doc','inf','lik','mean','prior','util'};           % core folders\n",
    "for d = dirs, addpath (fullfile (mydir, d{1})), end\n",
    "dirs = {{'util','minfunc'},{'util','minfunc','compiled'}};     % minfunc folders\n",
    "for d = dirs, addpath (fullfile (mydir, d{1}{:})), end\n",
    "% addpath([mydir,'/util/sparseinv'])\n",
    "pkg load statistics\n",
    "% graphics_toolkit ('qt')\n",
    "warning('off','all');\n",
    "\n",
    "rand('state',123456)"
   ]
  },
  {
   "cell_type": "code",
   "execution_count": 2,
   "metadata": {},
   "outputs": [],
   "source": [
    "ttcs = 400;\n",
    "knc = 20; % for each data point consider its k nearest clusters\n",
    "gamma = 0.3;\n",
    "sig_temp = 0.1;"
   ]
  },
  {
   "cell_type": "code",
   "execution_count": 3,
   "metadata": {},
   "outputs": [],
   "source": [
    "nn = 40000; \n",
    "nv = 0;\n",
    "n = nn-nv;\n",
    "nt = 5730;\n",
    "load ('./data/protein.mat');\n",
    "[ndata, ~] = size(M);\n",
    "X = M(:,2:9);\n",
    "Y = M(:,1);\n",
    "R = randperm(ndata);        \n",
    "ori_xvec_test = X(R(1:nt),:);\n",
    "ori_yvec_test = Y(R(1:nt));\n",
    "R(1:nt) = [];\n",
    "ori_xvec_val = X(R(1:nv),:);          \n",
    "ori_yvec_val = Y(R(1:nv));\n",
    "R(1:nv) = [];\n",
    "ori_xvec = X(R,:);\n",
    "ori_yvec = Y(R);"
   ]
  },
  {
   "cell_type": "code",
   "execution_count": 4,
   "metadata": {},
   "outputs": [],
   "source": [
    "ttm = round(n / (ttcs/2));\n",
    "% fast_induce_step = 50;\n",
    "induce_step = 100;\n",
    "\n",
    "xnorm = 1; ynorm = 1;"
   ]
  },
  {
   "cell_type": "code",
   "execution_count": 5,
   "metadata": {},
   "outputs": [],
   "source": [
    "% input normalization\n",
    "if xnorm == 1\n",
    "    norm_xmean = mean(ori_xvec);\n",
    "    norm_xstd = std(ori_xvec);\n",
    "    xvec = (ori_xvec - repmat(norm_xmean,n,1)) ./ repmat(norm_xstd,n,1);    \n",
    "    xvec_test = (ori_xvec_test - repmat(norm_xmean,nt,1)) ./ repmat(norm_xstd,nt,1);\n",
    "    xvec_val = (ori_xvec_val - repmat(norm_xmean,nv,1)) ./ repmat(norm_xstd,nv,1);\n",
    "else\n",
    "    xvec = ori_xvec;\n",
    "    xvec_test = ori_xvec_test;\n",
    "    xvec_val = ori_xvec_val;\n",
    "end\n",
    "\n",
    "% output normalization\n",
    "if ynorm == 1\n",
    "    norm_fmean = mean(ori_yvec);\n",
    "    norm_fstd = std(ori_yvec);\n",
    "    yvec = (ori_yvec - norm_fmean) / norm_fstd;\n",
    "    yvec_test = (ori_yvec_test - norm_fmean) / norm_fstd;\n",
    "    yvec_val = (ori_yvec_val - norm_fmean) / norm_fstd;\n",
    "else\n",
    "    yvec = ori_yvec;\n",
    "    yvec_test = ori_yvec_test;\n",
    "    yvec_test_val = ori_yvec_val;\n",
    "end"
   ]
  },
  {
   "cell_type": "code",
   "execution_count": 6,
   "metadata": {},
   "outputs": [],
   "source": [
    "testsize = nt; % size of test data\n",
    "valsize = nv;\n",
    "induce_step = 100;"
   ]
  },
  {
   "cell_type": "code",
   "execution_count": 7,
   "metadata": {},
   "outputs": [],
   "source": [
    "sf2 = 1 ; ell = 1 ; sn2 = 0.1 ; \n",
    "d = size(xvec,2);\n",
    "opts.Xnorm = 'N' ; opts.Ynorm = 'N' ;\n",
    "opts.Ms = ttm+1;\n",
    "opts.ell = ell ; opts.sf2 = sf2 ; opts.sn2 = sn2 ;\n",
    "opts.meanfunc = []; opts.covfunc = @covSEard; opts.likfunc = @likGauss; opts.inffunc = @infGaussLik ;\n",
    "\n",
    "meanfunc = [];                    % empty: don't use a mean function\n",
    "covfunc = opts.covfunc;              % Squared Exponental covariance function\n",
    "likfunc = opts.likfunc;              % Gaussian likelihood\n",
    "inffunc = opts.inffunc;\n",
    "km_iters = 1e4;\n",
    "opts.induce_step = induce_step ;"
   ]
  },
  {
   "cell_type": "code",
   "execution_count": 8,
   "metadata": {},
   "outputs": [],
   "source": [
    "% hyp.cov = log([ones(d,1)*ell;sf2]); hyp.lik = log(sn2); hyp.mean = [];    \n",
    "opts.numOptFC = 50 ;\n",
    "opts.Ms = ttm+1;\n",
    "opts.xvec = xvec;\n",
    "opts.yvec = yvec;\n",
    "opts.grbcm_baseline = 0;\n",
    "opts.global_index = ones(n,1);\n",
    "opts.inffunc = @infGaussLik; opts.meanfunc = meanfunc; opts.likfunc = likfunc;\n",
    "opts.covfunc = covfunc;\n",
    "covfuncF = {@apxSparse, {opts.covfunc}, []};\n",
    "opts.covfuncF = covfuncF;\n",
    "opts.compute_hyp = 0;"
   ]
  },
  {
   "cell_type": "code",
   "execution_count": 9,
   "metadata": {},
   "outputs": [
    {
     "name": "stdout",
     "output_type": "stream",
     "text": [
      "dcs =  200\n",
      "ecs =  200\n"
     ]
    }
   ],
   "source": [
    "% default partition\n",
    "dcs_ecs_r = 0.5;\n",
    "dcs = round(ttcs*dcs_ecs_r) % size of the communication set\n",
    "ecs = ttcs - dcs % size of other experts"
   ]
  },
  {
   "cell_type": "markdown",
   "metadata": {},
   "source": [
    "Baselines."
   ]
  },
  {
   "cell_type": "markdown",
   "metadata": {},
   "source": [
    "When testing baseline, VFE and SPGP use all partition budget (ttcs = dcs + ecs)."
   ]
  },
  {
   "cell_type": "code",
   "execution_count": 10,
   "metadata": {},
   "outputs": [],
   "source": [
    "n_per = dcs ; % size of Dc\n",
    "m = mn = round(n / ecs); % mn is the number of experts (normal)\n",
    "Indics = randperm(n) ;\n",
    "I_com = Indics(1:n_per) ; % randomly select communication set\n",
    "[idx, C] = kmeans(xvec, mn,'MaxIter',km_iters);    \n",
    "I_com2 = Indics(1:ttcs) ; % randomly select communication set\n",
    "xu = xvec(I_com2, :);"
   ]
  },
  {
   "cell_type": "code",
   "execution_count": 11,
   "metadata": {},
   "outputs": [],
   "source": [
    "opts.numOptFC = 30 ;\n",
    "opts.Ms = mn+1;\n",
    "opts.xvec = xvec;\n",
    "opts.yvec = yvec;\n",
    "opts.induce_size = dcs;\n",
    "opts.grbcm_baseline = 0;\n",
    "opts.global_index = ones(n,1);\n",
    "opts.I_com = I_com;\n",
    "% opts.inffunc = @infGaussLik; opts.meanfunc = meanfunc; opts.likfunc = likfunc;\n",
    "opts.covfunc = covfunc;\n",
    "covfuncF = {@apxSparse, {opts.covfunc}, xvec(I_com,:)};\n",
    "opts.covfuncF = covfuncF;\n",
    "opts.compute_hyp = 0;"
   ]
  },
  {
   "cell_type": "code",
   "execution_count": 12,
   "metadata": {},
   "outputs": [
    {
     "name": "stdout",
     "output_type": "stream",
     "text": [
      "Function evaluation    100;  Value 4.414344e+04\n",
      "VFE baseline (Dc size 200): MSE 18.10876025, SMSE 0.48269818, MSLL -0.36526286\n",
      "vfe_llh =    4.4143e+04\n"
     ]
    }
   ],
   "source": [
    "tic();\n",
    "% % VFE Baseline\n",
    "vfe_opts = opts;\n",
    "vfe_opts.induce_step=100;\n",
    "vfe_opts.induce_type = 'VFE_opt';\n",
    "inffunc = @(varargin) infGaussLik(varargin{:}, struct('s', 0.0));\n",
    "vfe_hyp = struct('mean', [], 'cov', [ones(d,1)*log(ell);log(sqrt(sf2))], 'lik', log(sqrt(sn2)));;\n",
    "vfe_hyp.xu = xu;\n",
    "[vfe_hyp, vfe_llhs] = minimize(vfe_hyp,@gp,-vfe_opts.induce_step,inffunc,meanfunc,covfuncF,likfunc,xvec,yvec);\n",
    "vfe_opts.hyp = vfe_hyp;\n",
    "vfe_opts.xu = vfe_hyp.xu;\n",
    "vfe_opts.inffunc = @infGaussLik; vfe_opts.meanfunc = meanfunc; vfe_opts.covfuncF = covfuncF; vfe_opts.likfunc = likfunc;\n",
    "vfe_opts.covfunc = covfunc;\n",
    "[tmu, ts2] = gp(vfe_hyp, @infGaussLik, meanfunc, covfuncF, likfunc, xvec, yvec, xvec_test);\n",
    "if ynorm==1\n",
    "    tmu = tmu * norm_fstd + norm_fmean;\n",
    "    ts2 = ts2 * norm_fstd^2;\n",
    "end\n",
    "[vfeMSE,vfeSMSE,vfeMSLL] = evaluate(ori_xvec, ori_yvec, ori_xvec_test, ori_yvec_test, tmu, ts2);\n",
    "fprintf('%s (Dc size %d): MSE %6.8f, SMSE %6.8f, MSLL %6.8f\\r\\n', 'VFE baseline', n_per, vfeMSE,vfeSMSE,vfeMSLL);\n",
    "vfe_llh = vfe_llhs(end)\n",
    "% vfe0_smse_rec(ki) = vfeSMSE; vfe0_msll_rec(ki) = vfeMSLL;\n",
    "[yu, su] = gp(vfe_hyp, @infGaussLik, meanfunc, covfuncF, likfunc, xvec, yvec, vfe_opts.xu);\n",
    "vfe_opts.yu = yu; vfe_opts.su = su; \n",
    "time_vfe_opt = toc();"
   ]
  },
  {
   "cell_type": "code",
   "execution_count": 13,
   "metadata": {},
   "outputs": [
    {
     "name": "stdout",
     "output_type": "stream",
     "text": [
      "Function evaluation    100;  Value 3.447922e+04\n",
      "SPSG baseline (Dc size 200): MSE 17.34319356, SMSE 0.46229161, MSLL -0.52843679\n",
      "spgp_llh =    3.4479e+04\n"
     ]
    }
   ],
   "source": [
    "tic();\n",
    "sp_opts = opts;\n",
    "sp_opts.induce_size = ttcs;\n",
    "sp_opts.induce_type = 'SPGP_opt';\n",
    "% hyp_init(1:d,1) = -2*opts.hyp.cov(1:d);\n",
    "% hyp_init(d+1,1) = 2*opts.hyp.cov(d+1);\n",
    "% hyp_init(d+2,1) = 2*opts.hyp.lik;\n",
    "hyp_init(1:d,1) = -2*ones(d,1)*log(ell);\n",
    "hyp_init(d+1,1) = 2*log(sqrt(sf2));\n",
    "hyp_init(d+2,1) = 2*log(sqrt(sn2));\n",
    "\n",
    "xu = xvec(I_com2, :);\n",
    "w_init = [reshape(xu,sp_opts.induce_size*d,1);hyp_init];\n",
    "% [w,spgp_llhs] = minimize(w_init,'spgp_lik_nohyp',-sp_opts.induce_step,yvec,xvec,sp_opts.induce_size);\n",
    "[w,spgp_llhs] = minimize(w_init,'spgp_lik',-sp_opts.induce_step,yvec,xvec,sp_opts.induce_size);\n",
    "xb = reshape(w(1:sp_opts.induce_size*d,1),sp_opts.induce_size,d);\n",
    "sp_opts.xu = xb;\n",
    "sp_opts.sp_hyp = w(sp_opts.induce_size*d+1:end,1); % hyp format for SPGP\n",
    "sp_opts.hyp(1:d,1) = -0.5*sp_opts.sp_hyp(1:d,1); % hyp format for GRBCM\n",
    "sp_opts.hyp(d+1,1) = 0.5*sp_opts.sp_hyp(d+1,1); \n",
    "sp_opts.hyp(d+2,1) = 0.5*sp_opts.sp_hyp(d+2,1); \n",
    "\n",
    "[tmu,ts2] = spgp_pred(sp_opts.yvec,sp_opts.xvec,sp_opts.xu,xvec_test,sp_opts.sp_hyp);\n",
    "if ynorm==1\n",
    "    tmu = tmu * norm_fstd + norm_fmean;\n",
    "    ts2 = ts2 * norm_fstd^2;\n",
    "end\n",
    "[spgpMSE,spgpSMSE,spgpMSLL] = evaluate(ori_xvec, ori_yvec, ori_xvec_test, ori_yvec_test, tmu, ts2);\n",
    "fprintf('%s (Dc size %d): MSE %6.8f, SMSE %6.8f, MSLL %6.8f\\r\\n', 'SPSG baseline', n_per, spgpMSE,spgpSMSE,spgpMSLL);\n",
    "spgp_llh = spgp_llhs(end)\n",
    "% spgp0_smse_rec(ki) = spgpSMSE; spgp0_msll_rec(ki) = spgpMSLL;\n",
    "[yu,su] = spgp_pred(sp_opts.yvec,sp_opts.xvec,sp_opts.xu,sp_opts.xu,sp_opts.sp_hyp);\n",
    "sp_opts.yu = yu; sp_opts.su = su;\n",
    "time_spgp_opt = toc;"
   ]
  },
  {
   "cell_type": "code",
   "execution_count": null,
   "metadata": {},
   "outputs": [],
   "source": []
  }
 ],
 "metadata": {
  "kernelspec": {
   "display_name": "Octave",
   "language": "octave",
   "name": "octave"
  },
  "language_info": {
   "file_extension": ".m",
   "help_links": [
    {
     "text": "GNU Octave",
     "url": "https://www.gnu.org/software/octave/support.html"
    },
    {
     "text": "Octave Kernel",
     "url": "https://github.com/Calysto/octave_kernel"
    },
    {
     "text": "MetaKernel Magics",
     "url": "https://metakernel.readthedocs.io/en/latest/source/README.html"
    }
   ],
   "mimetype": "text/x-octave",
   "name": "octave",
   "version": "4.2.2"
  }
 },
 "nbformat": 4,
 "nbformat_minor": 2
}
